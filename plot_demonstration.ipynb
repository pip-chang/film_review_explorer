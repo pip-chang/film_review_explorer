{
 "cells": [
  {
   "cell_type": "code",
   "execution_count": null,
   "metadata": {},
   "outputs": [],
   "source": [
    "%matplotlib widget"
   ]
  },
  {
   "cell_type": "code",
   "execution_count": null,
   "metadata": {},
   "outputs": [],
   "source": []
  },
  {
   "cell_type": "markdown",
   "metadata": {},
   "source": [
    "- key words\n",
    "\n",
    "- Word cloud\n",
    "\n",
    "- Word in context, word trend\n",
    "\n",
    "- nice plots with plotly\n",
    "\n"
   ]
  }
 ],
 "metadata": {
  "interpreter": {
   "hash": "45a86756a88996e814c4432654fc41ed6880797c3f685411ffd1be84db613c4e"
  },
  "kernelspec": {
   "display_name": "Python 3.10.9 ('pipjenew')",
   "language": "python",
   "name": "python3"
  },
  "language_info": {
   "name": "python",
   "version": "3.10.9"
  },
  "orig_nbformat": 4
 },
 "nbformat": 4,
 "nbformat_minor": 2
}
